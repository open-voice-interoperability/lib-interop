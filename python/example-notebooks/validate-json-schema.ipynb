{
 "cells": [
  {
   "attachments": {},
   "cell_type": "markdown",
   "metadata": {},
   "source": [
    "# Validate our example JSON against our schemas\n",
    "\n",
    "# Validate JSON Dialog Events\n",
    "The following code takes all of the sample dialog events in `sample-json` and validates them against the schema `/schemas/dialogEvent.json`"
   ]
  },
  {
   "cell_type": "code",
   "execution_count": 1,
   "metadata": {},
   "outputs": [
    {
     "name": "stdout",
     "output_type": "stream",
     "text": [
      "Validating JSON: figure2.json\n",
      "Validating JSON: figure3.json\n",
      "Validating JSON: figure4.json\n",
      "Validating JSON: utterance0.json\n",
      "Validating JSON: utterance4a.json\n",
      "Validating JSON: utterance5.json\n"
     ]
    }
   ],
   "source": [
    "from jsonschema import validate\n",
    "import json\n",
    "\n",
    "with open(\"../../schemas/dialogEvent-schema.json\", 'r') as f:\n",
    "    schema = json.load(f)\n",
    "\n",
    "stems=['figure2','figure3','figure4','utterance0','utterance4a','utterance5']\n",
    "\n",
    "for s in stems:\n",
    "    print(f'Validating JSON: {s}.json')\n",
    "    with open(f'../sample-json/{s}.json', 'r') as f:     \n",
    "        instance = json.load(f)\n",
    "        validate(instance=instance, schema=schema)     "
   ]
  },
  {
   "attachments": {},
   "cell_type": "markdown",
   "metadata": {},
   "source": [
    "## Validate YML Dialog Events\n",
    "The OVON Dialog Object standard is specified in JSON but the libraries in this repository also support YML equivalents with conversion both ways.    This code validates the YML that the JSON was generated from.  ( See dialog-packet.ipynb)"
   ]
  },
  {
   "cell_type": "code",
   "execution_count": 1,
   "metadata": {},
   "outputs": [
    {
     "name": "stdout",
     "output_type": "stream",
     "text": [
      "Validating YAML: figure2.yml\n"
     ]
    },
    {
     "ename": "ValidationError",
     "evalue": "'speakerId' is a required property\n\nFailed validating 'required' in schema:\n    {'$defs': {'features': {'properties': {'encoding': {'description': 'The '\n                                                                       'text '\n                                                                       'encoding '\n                                                                       'of '\n                                                                       'the '\n                                                                       'token '\n                                                                       'values',\n                                                        'type': 'string'},\n                                           'lang': {'description': 'The '\n                                                                   'language '\n                                                                   'of the '\n                                                                   'token '\n                                                                   'values',\n                                                    'type': 'string'},\n                                           'mimeType': {'description': 'The '\n                                                                       'mimeType '\n                                                                       'of '\n                                                                       'the '\n                                                                       'token '\n                                                                       'values',\n                                                        'type': 'string'},\n                                           'tokenSchema': {'description': 'A '\n                                                                          'schema '\n                                                                          'restricting '\n                                                                          'the '\n                                                                          'token '\n                                                                          'values',\n                                                           'type': 'string'},\n                                           'tokens': {'alternates': {'items': {'items': {'$ref': '#/$defs/token',\n                                                                                         'type': 'object'},\n                                                                               'type': 'array'},\n                                                                     'type': 'array'},\n                                                      'items': {'$ref': '#/$defs/token'},\n                                                      'type': 'array'}},\n                            'required': ['mimeType', 'tokens'],\n                            'type': 'object'},\n               'isoDuration': {'description': 'A string in ISO 8601 '\n                                              'duration format.'},\n               'isoTime': {'description': 'A string in ISO 8601 absolute '\n                                          'format.'},\n               'jsonpath': {'description': 'an expression in JSON Path '\n                                           'syntax',\n                            'type': 'string'},\n               'span': {'anyOf': [{'required': ['startTime']},\n                                  {'required': ['startOffset']}],\n                        'properties': {'endOffset': {'$ref': '#/$defs/isoDuration'},\n                                       'endTime': {'$ref': '#/$defs/isoTime'},\n                                       'startOffset': {'$ref': '#/$defs/isoDuration'},\n                                       'startTime': {'$ref': '#/$defs/isoTime'}}},\n               'token': {'anyOf': [{'required': ['value']},\n                                   {'required': ['valueUrl']}],\n                         'properties': {'confidence': {'type': 'number'},\n                                        'links': {'items': {'$ref': '#/$defs/jsonpath'},\n                                                  'type': 'array'},\n                                        'span': {'$ref': '#/$defs/span'},\n                                        'value': {'type': ['number',\n                                                           'string',\n                                                           'object',\n                                                           'array',\n                                                           'boolean']},\n                                        'valueUrl': {'$ref': '#/$defs/url'}},\n                         'type': 'object'},\n               'url': {'description': 'Any valid URL', 'type': 'string'}},\n     '$id': 'https://openvoicenetwork.org/schema/dialogEvent.json',\n     '$schema': 'https://openvoicenetwork.org/schema',\n     'description': \"A representation of a 'language event’ that is to say \"\n                    'any information associated with a phrase, utterance '\n                    'or part of an utterance.',\n     'properties': {'features': {'patternProperties': {'.*': {'$ref': '#/$defs/features'}},\n                                 'type': 'object'},\n                    'id': {'type': 'string'},\n                    'previousId': {'type': 'string'},\n                    'span': {'$ref': '#/$defs/span'},\n                    'speakerID': {'type': 'string'}},\n     'required': ['id', 'speakerId', 'span', 'features'],\n     'type': 'object'}\n\nOn instance:\n    {'features': {'my-audio-feature': {'mimeType': 'audio/wav',\n                                       'tokens': [{'value-url': 'http://localhost/xyz1234.wav'}]},\n                  'my-text-token-feature': {'encoding': 'UTF-8',\n                                            'lang': 'en',\n                                            'mimeType': 'text/plain',\n                                            'span': {'endOffset': 'PT0.1045',\n                                                     'startTime': 'PT0.0210'},\n                                            'tokenSchema': '',\n                                            'tokens': [{'value': 'what'},\n                                                       {'value': 'is'},\n                                                       {'value': 'the'},\n                                                       {'value': 'weather'},\n                                                       {'value': 'forecast'},\n                                                       {'value': 'for'},\n                                                       {'value': 'tomorrow'}]}},\n     'id': 'user-utterance-30',\n     'previousId': 'user-utterance-28',\n     'span': {'endOffset': 'PT0.1045',\n              'startTime': '2022-12-20 15:59:01.246500+00:00'},\n     'speakerID': 'b5y09lky5KU5'}",
     "output_type": "error",
     "traceback": [
      "\u001b[0;31m---------------------------------------------------------------------------\u001b[0m",
      "\u001b[0;31mValidationError\u001b[0m                           Traceback (most recent call last)",
      "\u001b[0;32m/tmp/ipykernel_9100/2552148119.py\u001b[0m in \u001b[0;36m<module>\u001b[0;34m\u001b[0m\n\u001b[1;32m     11\u001b[0m     \u001b[0;32mwith\u001b[0m \u001b[0mopen\u001b[0m\u001b[0;34m(\u001b[0m\u001b[0;34mf'../sample-yaml/{s}.yml'\u001b[0m\u001b[0;34m,\u001b[0m \u001b[0;34m'r'\u001b[0m\u001b[0;34m)\u001b[0m \u001b[0;32mas\u001b[0m \u001b[0mf\u001b[0m\u001b[0;34m:\u001b[0m\u001b[0;34m\u001b[0m\u001b[0;34m\u001b[0m\u001b[0m\n\u001b[1;32m     12\u001b[0m         \u001b[0minstance\u001b[0m \u001b[0;34m=\u001b[0m \u001b[0myaml\u001b[0m\u001b[0;34m.\u001b[0m\u001b[0msafe_load\u001b[0m\u001b[0;34m(\u001b[0m\u001b[0mf\u001b[0m\u001b[0;34m)\u001b[0m\u001b[0;34m\u001b[0m\u001b[0;34m\u001b[0m\u001b[0m\n\u001b[0;32m---> 13\u001b[0;31m         \u001b[0mvalidate\u001b[0m\u001b[0;34m(\u001b[0m\u001b[0minstance\u001b[0m\u001b[0;34m=\u001b[0m\u001b[0minstance\u001b[0m\u001b[0;34m,\u001b[0m \u001b[0mschema\u001b[0m\u001b[0;34m=\u001b[0m\u001b[0mschema\u001b[0m\u001b[0;34m)\u001b[0m\u001b[0;34m\u001b[0m\u001b[0;34m\u001b[0m\u001b[0m\n\u001b[0m",
      "\u001b[0;32m/usr/lib/python3/dist-packages/jsonschema/validators.py\u001b[0m in \u001b[0;36mvalidate\u001b[0;34m(instance, schema, cls, *args, **kwargs)\u001b[0m\n\u001b[1;32m    932\u001b[0m     \u001b[0merror\u001b[0m \u001b[0;34m=\u001b[0m \u001b[0mexceptions\u001b[0m\u001b[0;34m.\u001b[0m\u001b[0mbest_match\u001b[0m\u001b[0;34m(\u001b[0m\u001b[0mvalidator\u001b[0m\u001b[0;34m.\u001b[0m\u001b[0miter_errors\u001b[0m\u001b[0;34m(\u001b[0m\u001b[0minstance\u001b[0m\u001b[0;34m)\u001b[0m\u001b[0;34m)\u001b[0m\u001b[0;34m\u001b[0m\u001b[0;34m\u001b[0m\u001b[0m\n\u001b[1;32m    933\u001b[0m     \u001b[0;32mif\u001b[0m \u001b[0merror\u001b[0m \u001b[0;32mis\u001b[0m \u001b[0;32mnot\u001b[0m \u001b[0;32mNone\u001b[0m\u001b[0;34m:\u001b[0m\u001b[0;34m\u001b[0m\u001b[0;34m\u001b[0m\u001b[0m\n\u001b[0;32m--> 934\u001b[0;31m         \u001b[0;32mraise\u001b[0m \u001b[0merror\u001b[0m\u001b[0;34m\u001b[0m\u001b[0;34m\u001b[0m\u001b[0m\n\u001b[0m\u001b[1;32m    935\u001b[0m \u001b[0;34m\u001b[0m\u001b[0m\n\u001b[1;32m    936\u001b[0m \u001b[0;34m\u001b[0m\u001b[0m\n",
      "\u001b[0;31mValidationError\u001b[0m: 'speakerId' is a required property\n\nFailed validating 'required' in schema:\n    {'$defs': {'features': {'properties': {'encoding': {'description': 'The '\n                                                                       'text '\n                                                                       'encoding '\n                                                                       'of '\n                                                                       'the '\n                                                                       'token '\n                                                                       'values',\n                                                        'type': 'string'},\n                                           'lang': {'description': 'The '\n                                                                   'language '\n                                                                   'of the '\n                                                                   'token '\n                                                                   'values',\n                                                    'type': 'string'},\n                                           'mimeType': {'description': 'The '\n                                                                       'mimeType '\n                                                                       'of '\n                                                                       'the '\n                                                                       'token '\n                                                                       'values',\n                                                        'type': 'string'},\n                                           'tokenSchema': {'description': 'A '\n                                                                          'schema '\n                                                                          'restricting '\n                                                                          'the '\n                                                                          'token '\n                                                                          'values',\n                                                           'type': 'string'},\n                                           'tokens': {'alternates': {'items': {'items': {'$ref': '#/$defs/token',\n                                                                                         'type': 'object'},\n                                                                               'type': 'array'},\n                                                                     'type': 'array'},\n                                                      'items': {'$ref': '#/$defs/token'},\n                                                      'type': 'array'}},\n                            'required': ['mimeType', 'tokens'],\n                            'type': 'object'},\n               'isoDuration': {'description': 'A string in ISO 8601 '\n                                              'duration format.'},\n               'isoTime': {'description': 'A string in ISO 8601 absolute '\n                                          'format.'},\n               'jsonpath': {'description': 'an expression in JSON Path '\n                                           'syntax',\n                            'type': 'string'},\n               'span': {'anyOf': [{'required': ['startTime']},\n                                  {'required': ['startOffset']}],\n                        'properties': {'endOffset': {'$ref': '#/$defs/isoDuration'},\n                                       'endTime': {'$ref': '#/$defs/isoTime'},\n                                       'startOffset': {'$ref': '#/$defs/isoDuration'},\n                                       'startTime': {'$ref': '#/$defs/isoTime'}}},\n               'token': {'anyOf': [{'required': ['value']},\n                                   {'required': ['valueUrl']}],\n                         'properties': {'confidence': {'type': 'number'},\n                                        'links': {'items': {'$ref': '#/$defs/jsonpath'},\n                                                  'type': 'array'},\n                                        'span': {'$ref': '#/$defs/span'},\n                                        'value': {'type': ['number',\n                                                           'string',\n                                                           'object',\n                                                           'array',\n                                                           'boolean']},\n                                        'valueUrl': {'$ref': '#/$defs/url'}},\n                         'type': 'object'},\n               'url': {'description': 'Any valid URL', 'type': 'string'}},\n     '$id': 'https://openvoicenetwork.org/schema/dialogEvent.json',\n     '$schema': 'https://openvoicenetwork.org/schema',\n     'description': \"A representation of a 'language event’ that is to say \"\n                    'any information associated with a phrase, utterance '\n                    'or part of an utterance.',\n     'properties': {'features': {'patternProperties': {'.*': {'$ref': '#/$defs/features'}},\n                                 'type': 'object'},\n                    'id': {'type': 'string'},\n                    'previousId': {'type': 'string'},\n                    'span': {'$ref': '#/$defs/span'},\n                    'speakerID': {'type': 'string'}},\n     'required': ['id', 'speakerId', 'span', 'features'],\n     'type': 'object'}\n\nOn instance:\n    {'features': {'my-audio-feature': {'mimeType': 'audio/wav',\n                                       'tokens': [{'value-url': 'http://localhost/xyz1234.wav'}]},\n                  'my-text-token-feature': {'encoding': 'UTF-8',\n                                            'lang': 'en',\n                                            'mimeType': 'text/plain',\n                                            'span': {'endOffset': 'PT0.1045',\n                                                     'startTime': 'PT0.0210'},\n                                            'tokenSchema': '',\n                                            'tokens': [{'value': 'what'},\n                                                       {'value': 'is'},\n                                                       {'value': 'the'},\n                                                       {'value': 'weather'},\n                                                       {'value': 'forecast'},\n                                                       {'value': 'for'},\n                                                       {'value': 'tomorrow'}]}},\n     'id': 'user-utterance-30',\n     'previousId': 'user-utterance-28',\n     'span': {'endOffset': 'PT0.1045',\n              'startTime': '2022-12-20 15:59:01.246500+00:00'},\n     'speakerID': 'b5y09lky5KU5'}"
     ]
    }
   ],
   "source": [
    "from jsonschema import validate\n",
    "import yaml\n",
    "import json\n",
    "\n",
    "with open(\"../../schemas/dialog-event/1.0.1/dialog-event-schema.json\", 'r') as f:\n",
    "    schema = json.load(f)\n",
    "\n",
    "stems=['figure2','figure3','figure4','utterance0','utterance4a','utterance5']\n",
    "for s in stems:\n",
    "    print(f'Validating YAML: {s}.yml')\n",
    "    with open(f'../sample-yaml/{s}.yml', 'r') as f:     \n",
    "        instance = yaml.safe_load(f)\n",
    "        validate(instance=instance, schema=schema)     "
   ]
  }
 ],
 "metadata": {
  "kernelspec": {
   "display_name": "Python 3",
   "language": "python",
   "name": "python3"
  },
  "language_info": {
   "codemirror_mode": {
    "name": "ipython",
    "version": 3
   },
   "file_extension": ".py",
   "mimetype": "text/x-python",
   "name": "python",
   "nbconvert_exporter": "python",
   "pygments_lexer": "ipython3",
   "version": "3.8.10"
  },
  "orig_nbformat": 4,
  "vscode": {
   "interpreter": {
    "hash": "31f2aee4e71d21fbe5cf8b01ff0e069b9275f58929596ceb00d14d90e3e16cd6"
   }
  }
 },
 "nbformat": 4,
 "nbformat_minor": 2
}
