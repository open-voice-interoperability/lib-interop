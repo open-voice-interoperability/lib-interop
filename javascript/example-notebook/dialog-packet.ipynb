{
 "cells": [
  {
   "cell_type": "markdown",
   "metadata": {},
   "source": [
    "# Example interface into dialog packets (Javascript)\n",
    "\n",
    "## Prerequisiutes\n",
    "\n",
    "The Javascript library uses a number of underlying packages.\n",
    "\n",
    "`npm install js-yaml`\n",
    "\n",
    "## Load dialog_event.js into Node\n",
    "\n",
    "To use vanilla javascript with notebooks we use the pixiedust helper library.  To install is use:\n",
    "\n",
    "`pip install pixiedust`\n",
    "\n",
    "We then set up a variable pointing at the library which will then be read into the node.js environment when we need it."
   ]
  },
  {
   "cell_type": "code",
   "execution_count": 1,
   "metadata": {},
   "outputs": [
    {
     "name": "stdout",
     "output_type": "stream",
     "text": [
      "Pixiedust database opened successfully\n"
     ]
    },
    {
     "data": {
      "text/html": [
       "\n",
       "        <div style=\"margin:10px\">\n",
       "            <a href=\"https://github.com/ibm-watson-data-lab/pixiedust\" target=\"_new\">\n",
       "                <img src=\"https://github.com/ibm-watson-data-lab/pixiedust/raw/master/docs/_static/pd_icon32.png\" style=\"float:left;margin-right:10px\"/>\n",
       "            </a>\n",
       "            <span>Pixiedust version 1.1.19</span>\n",
       "        </div>\n",
       "        "
      ],
      "text/plain": [
       "<IPython.core.display.HTML object>"
      ]
     },
     "metadata": {},
     "output_type": "display_data"
    },
    {
     "data": {
      "text/html": [
       "\n",
       "            <div style=\"margin:10px\"> \n",
       "            <a href=\"https://github.com/ibm-cds-labs/pixiedust_node\" target=\"_new\"> \n",
       "            <img src=\"https://github.com/ibm-cds-labs/pixiedust_node/raw/master/docs/_images/pdn_icon32.png\" style=\"float:left;margin-right:10px\"/> \n",
       "            </a> \n",
       "            <span>Pixiedust Node.js</span> \n",
       "            </div> \n"
      ],
      "text/plain": [
       "<IPython.core.display.HTML object>"
      ]
     },
     "metadata": {},
     "output_type": "display_data"
    }
   ],
   "source": [
    "# Import the pixie dust magic module for node.js and set up the location of the dialog event javascript library.\n",
    "import pixiedust_node\n",
    "import os\n",
    "cwd = os.getcwd()\n",
    "dialog_event_lib=os.path.abspath('../lib/dialog_event.js')"
   ]
  },
  {
   "cell_type": "code",
   "execution_count": 2,
   "metadata": {},
   "outputs": [],
   "source": [
    "%%node --i dialog_event_lib cwd\n",
    "const fs = require('fs');\n",
    "eval(fs.readFileSync(dialog_event_lib, 'utf8'));"
   ]
  },
  {
   "cell_type": "markdown",
   "metadata": {},
   "source": [
    "# Intract with a dialog event programatically\n",
    "\n",
    "In this example we show how a dialog event can be built using code, interrogated using code, and saved to JSON for consumption by another component"
   ]
  },
  {
   "cell_type": "code",
   "execution_count": 3,
   "metadata": {},
   "outputs": [
    {
     "name": "stdout",
     "output_type": "stream",
     "text": [
      "pixiedust_node 0.2.5 started. Cells starting '%%node' may contain Node.js code.\n",
      "{\n",
      "\"id\": \"user-utterance-45\",\n",
      "\"speakerId\": \"user1234\",\n",
      "\"previous_id\": \"user-utterance-44\",\n",
      "\"features\": {\n",
      "\"user-request-text\": {\n",
      "\"lang\": \"en\",\n",
      "\"encoding\": \"utf-8\",\n",
      "\"mimeType\": \"text/plain\",\n",
      "\"tokens\": [\n",
      "{\n",
      "\"value\": \"what is the weather forecast for tomorrow?\",\n",
      "\"confidence\": 0.99,\n",
      "\"span\": {\n",
      "\"endOffset\": \"PT8.845000\",\n",
      "\"startOffset\": \"PT8.790000\"\n",
      "},\n",
      "\"links\": [\n",
      "                        \"$.user-request-audio.tokens[0].value-url\"\n",
      "\n",
      "]\n",
      "},\n",
      "{\n",
      "\"value\": \"what is the weather forecast for tuesday?\",\n",
      "\"confidence\": 0.87,\n",
      "\"span\": {\n",
      "\"endOffset\": \"PT8.845000\",\n",
      "\"startOffset\": \"PT8.790000\"\n",
      "}\n",
      "}\n",
      "]\n",
      "}\n",
      "},\n",
      "\"span\": {\n",
      "\"startTime\": \"2023-06-22T23:20:44.250759\",\n",
      "\"endOffset\": \"PT1.045000\"\n",
      "}\n",
      "}\n"
     ]
    }
   ],
   "source": [
    "%%node\n",
    "\n",
    "var d=new DialogEvent({\"id\":'user-utterance-45', \"speakerId\":\"user1234\", \"previous_id\" :\"user-utterance-44\"});\n",
    "d.span=new Span({startTime : \"2023-06-22T23:20:44.250759\",endOffset_msec: 1045});\n",
    "\n",
    "f2=new Feature({\"lang\" : \"en\", \"encoding\" : \"utf-8\", mimeType : \"text/plain\"});\n",
    "d.add_feature(\"user-request-text\",f2);\n",
    "f2.add_token({\"value\":\"what is the weather forecast for tomorrow?\",\"confidence\":0.99,\"span\": new Span({\"startOffset_msec\":8790,\"endOffset_msec\":8845}),\"links\":[\"$.user-request-audio.tokens[0].value-url\"]});\n",
    "f2.add_token({\"value\":\"what is the weather forecast for tuesday?\",\"confidence\":0.87,\"span\": new Span({\"startOffset_msec\":8790,\"endOffset_msec\":8845}) });\n",
    "\n",
    "console.log(d.dump_json(null,4))\n",
    "fs.writeFileSync(cwd+\"/../sample-json/utterance0.json\", d.dump_json(null,4));\n"
   ]
  }
 ],
 "metadata": {
  "kernelspec": {
   "display_name": "Python 3",
   "language": "python",
   "name": "python3"
  },
  "language_info": {
   "codemirror_mode": {
    "name": "ipython",
    "version": 3
   },
   "file_extension": ".py",
   "mimetype": "text/x-python",
   "name": "python",
   "nbconvert_exporter": "python",
   "pygments_lexer": "ipython3",
   "version": "3.8.10"
  },
  "orig_nbformat": 4
 },
 "nbformat": 4,
 "nbformat_minor": 2
}
