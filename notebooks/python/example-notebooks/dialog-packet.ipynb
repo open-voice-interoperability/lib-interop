{
 "cells": [
  {
   "cell_type": "markdown",
   "metadata": {},
   "source": [
    "# Example interface into dialog events.\n",
    "\n",
    "## Load the dialog_event library"
   ]
  },
  {
   "cell_type": "code",
   "execution_count": 1,
   "metadata": {},
   "outputs": [],
   "source": [
    "import os\n",
    "import sys\n",
    "\n",
    "os.environ['PYTHONPATH']=f'$PYTHONPATH:{os.getcwd()}/..'\n",
    "fpath = os.path.join(os.getcwd(), '..')\n",
    "sys.path.append(fpath)\n",
    "import lib.dialog_event as de"
   ]
  },
  {
   "cell_type": "markdown",
   "metadata": {},
   "source": [
    "# Intract with a dialog event programatically\n",
    "\n",
    "In this example we show how a dialog event can be built using code, interrogated using code, and saved to YML and JSON for consumption by another component"
   ]
  },
  {
   "cell_type": "code",
   "execution_count": 3,
   "metadata": {},
   "outputs": [
    {
     "name": "stdout",
     "output_type": "stream",
     "text": [
      "self._packet[ELMNT_SPAN]: {}\n",
      "self._packet[ELMNT_SPAN]: {'start-time': '2023-06-22T23:20:44.250759', 'end-offset': 'PT1.045'}\n",
      "self.span:{'start-time': '2023-06-22T23:20:44.250759', 'end-offset': 'PT1.045'}\n",
      "self._packet[ELMNT_SPAN]: {}\n",
      "self._packet[ELMNT_SPAN]: {'start-offset': 'PT8.79', 'end-offset': 'PT8.845'}\n",
      "self.span:{'start-offset': 'PT8.79', 'end-offset': 'PT8.845'}\n",
      "self._packet[ELMNT_SPAN]: {}\n",
      "self._packet[ELMNT_SPAN]: {'start-offset': 'PT8.79', 'end-offset': 'PT8.845'}\n",
      "self.span:{'start-offset': 'PT8.79', 'end-offset': 'PT8.845'}\n",
      "dialog packet: {'id': 'user-utterance-45', 'speaker-id': 'user1234', 'previous-id': 'user-utterance-44', 'span': {'start-time': '2023-06-22T23:20:44.250759', 'end-offset': 'PT1.045'}, 'features': {'user-request-audio': {'mime-type': 'audio/wav', 'tokens': [{'value-url': 'http://localhost:8080/ab78h50ef.wav'}]}, 'user-request-text': {'mime-type': 'text/plain', 'lang': 'en', 'encoding': 'utf-8', 'tokens': [{'value': 'what is the weather forecast for tomorrow?', 'links': ['$.user-request-audio.tokens[0].value-url'], 'confidence': 0.99, 'span': {'start-offset': 'PT8.79', 'end-offset': 'PT8.845'}}, {'value': 'what is the weather forecast for tuesday?', 'confidence': 0.87, 'span': {'start-offset': 'PT8.79', 'end-offset': 'PT8.845'}}]}}}\n",
      "l: $.user-request-audio.tokens[0].value-url\n",
      "text packet: {'mime-type': 'text/plain', 'lang': 'en', 'encoding': 'utf-8', 'tokens': [{'value': 'what is the weather forecast for tomorrow?', 'links': ['$.user-request-audio.tokens[0].value-url'], 'confidence': 0.99, 'span': {'start-offset': 'PT8.79', 'end-offset': 'PT8.845'}}, {'value': 'what is the weather forecast for tuesday?', 'confidence': 0.87, 'span': {'start-offset': 'PT8.79', 'end-offset': 'PT8.845'}}]}\n",
      "text1: what is the weather forecast for tomorrow? confidence1: 0.99\n",
      "text2: what is the weather forecast for tuesday? confidence1: 0.87\n",
      "l1: [[Child(Child(Child(Fields('user-request-audio'), Fields('tokens')), Index(index=0)), Fields('value-url')), 'http://localhost:8080/ab78h50ef.wav']]\n"
     ]
    }
   ],
   "source": [
    "import datetime\n",
    "\n",
    "#Create a dialog event\n",
    "d=de.DialogEvent()\n",
    "d.id='user-utterance-45'\n",
    "d.speaker_id=\"user1234\"\n",
    "d.previous_id='user-utterance-44'\n",
    "d.add_span(de.Span(start_time=\"2023-06-22T23:20:44.250759\",end_offset_msec=1045))\n",
    "\n",
    "#Add an Audio Feature\n",
    "f1=de.AudioWavFileFeature()\n",
    "d.add_feature('user-request-audio',f1)\n",
    "f1.add_token(value_url='http://localhost:8080/ab78h50ef.wav')\n",
    "\n",
    "#Now add a text feature with two alternate values\n",
    "f2=de.TextFeature(lang='en',encoding='utf-8')\n",
    "d.add_feature('user-request-text',f2)\n",
    "f2.add_token(value='what is the weather forecast for tomorrow?',confidence=0.99,start_offset_msec=8790,end_offset_msec=8845,links=[\"$.user-request-audio.tokens[0].value-url\"])\n",
    "f2.add_token(value='what is the weather forecast for tuesday?',confidence=0.87,start_offset_msec=8790,end_offset_msec=8845)\n",
    "print(f'dialog packet: {d.packet}')\n",
    "\n",
    "#Now save the dialog event to YML and JSON\n",
    "with open(\"../sample-json/utterance0.json\", \"w\") as file: d.dump_json(file)\n",
    "with open(\"../sample-yaml/utterance0.yml\", \"w\")  as file: d.dump_yml(file)\n",
    "\n",
    "#Now interrogate this object\n",
    "text1=d.get_feature('user-request-text').get_token().value\n",
    "confidence1=d.get_feature('user-request-text').get_token().confidence\n",
    "t2=d.get_feature('user-request-text').get_token(1)\n",
    "l1=d.get_feature('user-request-text').get_token().linked_values(d)\n",
    "\n",
    "#Look at some of the variables\n",
    "print(f'text packet: {f2.packet}')\n",
    "print(f'text1: {text1} confidence1: {confidence1}')\n",
    "print(f'text2: {t2.value} confidence1: {t2.confidence}')\n",
    "print(f'l1: {l1}')\n"
   ]
  },
  {
   "cell_type": "markdown",
   "metadata": {},
   "source": [
    "# Create a Dialog History Object\n",
    "The dialog history object is not standardized yet but here is a simple piece of code to generate a dialog history object from a set of dialog event objects.  Note that for simplicity we add the same event over and over again which is clearly not what a normal dialog history would look like."
   ]
  },
  {
   "cell_type": "code",
   "execution_count": 4,
   "metadata": {},
   "outputs": [
    {
     "name": "stdout",
     "output_type": "stream",
     "text": [
      "{'history': [{'id': 'user-utterance-45', 'speaker-id': 'user1234', 'previous-id': 'user-utterance-44', 'span': {'start-time': '2023-06-22T23:20:44.250759', 'end-offset': 'PT1.045'}, 'features': {'user-request-audio': {'mime-type': 'audio/wav', 'tokens': [{'value-url': 'http://localhost:8080/ab78h50ef.wav'}]}, 'user-request-text': {'mime-type': 'text/plain', 'lang': 'en', 'encoding': 'utf-8', 'tokens': [{'value': 'what is the weather forecast for tomorrow?', 'links': ['$.user-request-audio.tokens[0].value-url'], 'confidence': 0.99, 'span': {'start-offset': 'PT8.79', 'end-offset': 'PT8.845'}}, {'value': 'what is the weather forecast for tuesday?', 'confidence': 0.87, 'span': {'start-offset': 'PT8.79', 'end-offset': 'PT8.845'}}]}}}, {'id': 'user-utterance-45', 'speaker-id': 'user1234', 'previous-id': 'user-utterance-44', 'span': {'start-time': '2023-06-22T23:20:44.250759', 'end-offset': 'PT1.045'}, 'features': {'user-request-audio': {'mime-type': 'audio/wav', 'tokens': [{'value-url': 'http://localhost:8080/ab78h50ef.wav'}]}, 'user-request-text': {'mime-type': 'text/plain', 'lang': 'en', 'encoding': 'utf-8', 'tokens': [{'value': 'what is the weather forecast for tomorrow?', 'links': ['$.user-request-audio.tokens[0].value-url'], 'confidence': 0.99, 'span': {'start-offset': 'PT8.79', 'end-offset': 'PT8.845'}}, {'value': 'what is the weather forecast for tuesday?', 'confidence': 0.87, 'span': {'start-offset': 'PT8.79', 'end-offset': 'PT8.845'}}]}}}, {'id': 'user-utterance-45', 'speaker-id': 'user1234', 'previous-id': 'user-utterance-44', 'span': {'start-time': '2023-06-22T23:20:44.250759', 'end-offset': 'PT1.045'}, 'features': {'user-request-audio': {'mime-type': 'audio/wav', 'tokens': [{'value-url': 'http://localhost:8080/ab78h50ef.wav'}]}, 'user-request-text': {'mime-type': 'text/plain', 'lang': 'en', 'encoding': 'utf-8', 'tokens': [{'value': 'what is the weather forecast for tomorrow?', 'links': ['$.user-request-audio.tokens[0].value-url'], 'confidence': 0.99, 'span': {'start-offset': 'PT8.79', 'end-offset': 'PT8.845'}}, {'value': 'what is the weather forecast for tuesday?', 'confidence': 0.87, 'span': {'start-offset': 'PT8.79', 'end-offset': 'PT8.845'}}]}}}, {'id': 'user-utterance-45', 'speaker-id': 'user1234', 'previous-id': 'user-utterance-44', 'span': {'start-time': '2023-06-22T23:20:44.250759', 'end-offset': 'PT1.045'}, 'features': {'user-request-audio': {'mime-type': 'audio/wav', 'tokens': [{'value-url': 'http://localhost:8080/ab78h50ef.wav'}]}, 'user-request-text': {'mime-type': 'text/plain', 'lang': 'en', 'encoding': 'utf-8', 'tokens': [{'value': 'what is the weather forecast for tomorrow?', 'links': ['$.user-request-audio.tokens[0].value-url'], 'confidence': 0.99, 'span': {'start-offset': 'PT8.79', 'end-offset': 'PT8.845'}}, {'value': 'what is the weather forecast for tuesday?', 'confidence': 0.87, 'span': {'start-offset': 'PT8.79', 'end-offset': 'PT8.845'}}]}}}, {'id': 'user-utterance-45', 'speaker-id': 'user1234', 'previous-id': 'user-utterance-44', 'span': {'start-time': '2023-06-22T23:20:44.250759', 'end-offset': 'PT1.045'}, 'features': {'user-request-audio': {'mime-type': 'audio/wav', 'tokens': [{'value-url': 'http://localhost:8080/ab78h50ef.wav'}]}, 'user-request-text': {'mime-type': 'text/plain', 'lang': 'en', 'encoding': 'utf-8', 'tokens': [{'value': 'what is the weather forecast for tomorrow?', 'links': ['$.user-request-audio.tokens[0].value-url'], 'confidence': 0.99, 'span': {'start-offset': 'PT8.79', 'end-offset': 'PT8.845'}}, {'value': 'what is the weather forecast for tuesday?', 'confidence': 0.87, 'span': {'start-offset': 'PT8.79', 'end-offset': 'PT8.845'}}]}}}]}\n"
     ]
    }
   ],
   "source": [
    "h=de.History()\n",
    "h.add_event(d)\n",
    "h.add_event(d)\n",
    "h.add_event(d)\n",
    "h.add_event(d)\n",
    "h.add_event(d)\n",
    "print(h.packet)\n",
    "with open(\"../sample-json/history1.json\", \"w\") as file: h.dump_json(file)\n"
   ]
  }
 ],
 "metadata": {
  "kernelspec": {
   "display_name": "Python 3",
   "language": "python",
   "name": "python3"
  },
  "language_info": {
   "codemirror_mode": {
    "name": "ipython",
    "version": 3
   },
   "file_extension": ".py",
   "mimetype": "text/x-python",
   "name": "python",
   "nbconvert_exporter": "python",
   "pygments_lexer": "ipython3",
   "version": "3.8.10"
  },
  "vscode": {
   "interpreter": {
    "hash": "31f2aee4e71d21fbe5cf8b01ff0e069b9275f58929596ceb00d14d90e3e16cd6"
   }
  }
 },
 "nbformat": 4,
 "nbformat_minor": 4
}
