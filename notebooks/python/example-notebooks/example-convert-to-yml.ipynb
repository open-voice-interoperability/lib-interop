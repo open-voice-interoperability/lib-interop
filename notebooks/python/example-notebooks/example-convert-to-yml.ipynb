{
 "cells": [
  {
   "cell_type": "markdown",
   "metadata": {},
   "source": [
    "# Convert Dialog Events to YML\n",
    "The OVON standard is JSON but we provide support in the libraries for YML as well for those you you who find it easier to read."
   ]
  },
  {
   "cell_type": "code",
   "execution_count": 2,
   "metadata": {},
   "outputs": [],
   "source": [
    "import os\n",
    "import sys\n",
    "\n",
    "os.environ['PYTHONPATH']=f'$PYTHONPATH:{os.getcwd()}/..'\n",
    "fpath = os.path.join(os.getcwd(), '..')\n",
    "sys.path.append(fpath)\n",
    "import lib.dialog_event as de"
   ]
  },
  {
   "cell_type": "code",
   "execution_count": 5,
   "metadata": {},
   "outputs": [
    {
     "name": "stdout",
     "output_type": "stream",
     "text": [
      "Converting: figure2.json\n",
      "Converting: figure3.json\n",
      "Converting: figure4.json\n",
      "Converting: utterance0.json\n",
      "Converting: utterance4a.json\n",
      "Converting: utterance5.json\n",
      "Converting: example-ovon-system-response-minimal.json\n",
      "Converting: example-ovon-user-input-minimal.json\n",
      "Converting: example-ovon-response-and-delegate-minimal.json\n",
      "Converting: example-ovon-system-response-verbose.json\n",
      "Converting: example-ovon-user-input-verbose.json\n"
     ]
    }
   ],
   "source": [
    "import lib.dialog_event as de\n",
    "\n",
    "d=de.DialogEvent()\n",
    "stems=['figure2','figure3','figure4','utterance0','utterance4a','utterance5','example-ovon-system-response-minimal','example-ovon-user-input-minimal', 'example-ovon-response-and-delegate-minimal', 'example-ovon-system-response-verbose', 'example-ovon-user-input-verbose']\n",
    "for s in stems:\n",
    "    print(f'Converting: {s}.json')\n",
    "    with open(f'../sample-json/{s}.json', 'r')  as f: d.load_json(f)\n",
    "    with open(f'../sample-yaml/{s}.yml', \"w\") as f: d.dump_yml(f)"
   ]
  }
 ],
 "metadata": {
  "kernelspec": {
   "display_name": "Python 3",
   "language": "python",
   "name": "python3"
  },
  "language_info": {
   "codemirror_mode": {
    "name": "ipython",
    "version": 3
   },
   "file_extension": ".py",
   "mimetype": "text/x-python",
   "name": "python",
   "nbconvert_exporter": "python",
   "pygments_lexer": "ipython3",
   "version": "3.8.10"
  },
  "orig_nbformat": 4
 },
 "nbformat": 4,
 "nbformat_minor": 2
}
