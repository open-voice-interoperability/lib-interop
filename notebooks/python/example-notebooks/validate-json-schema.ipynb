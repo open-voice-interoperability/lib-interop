{
 "cells": [
  {
   "attachments": {},
   "cell_type": "markdown",
   "metadata": {},
   "source": [
    "# Validate our example JSON against our schemas\n",
    "\n",
    "# Validate JSON Dialog Events\n",
    "The following code takes all of the sample dialog events in `sample-json` and validates them against the schema `/schemas/dialog-event.json`"
   ]
  },
  {
   "cell_type": "code",
   "execution_count": 1,
   "metadata": {},
   "outputs": [
    {
     "name": "stdout",
     "output_type": "stream",
     "text": [
      "Validating JSON: figure2.json\n",
      "Validating JSON: figure3.json\n",
      "Validating JSON: figure4.json\n",
      "Validating JSON: utterance0.json\n",
      "Validating JSON: utterance4a.json\n",
      "Validating JSON: utterance5.json\n"
     ]
    }
   ],
   "source": [
    "from jsonschema import validate\n",
    "import json\n",
    "\n",
    "with open(\"../../schemas/dialog-event-schema.json\", 'r') as f:\n",
    "    schema = json.load(f)\n",
    "\n",
    "stems=['figure2','figure3','figure4','utterance0','utterance4a','utterance5']\n",
    "\n",
    "for s in stems:\n",
    "    print(f'Validating JSON: {s}.json')\n",
    "    with open(f'../sample-json/{s}.json', 'r') as f:     \n",
    "        instance = json.load(f)\n",
    "        validate(instance=instance, schema=schema)     "
   ]
  },
  {
   "attachments": {},
   "cell_type": "markdown",
   "metadata": {},
   "source": [
    "## Validate YML Dialog Events\n",
    "The OVON Dialog Object standard is specified in JSON but the libraries in this repository also support YML equivalents with conversion both ways.    This code validates the YML that the JSON was generated from.  ( See dialog-packet.ipynb)"
   ]
  },
  {
   "cell_type": "code",
   "execution_count": 2,
   "metadata": {},
   "outputs": [
    {
     "name": "stdout",
     "output_type": "stream",
     "text": [
      "Validating YAML: figure2.yml\n",
      "Validating YAML: figure3.yml\n",
      "Validating YAML: figure4.yml\n",
      "Validating YAML: utterance0.yml\n",
      "Validating YAML: utterance4a.yml\n",
      "Validating YAML: utterance5.yml\n"
     ]
    }
   ],
   "source": [
    "from jsonschema import validate\n",
    "import yaml\n",
    "import json\n",
    "\n",
    "with open(\"../../schemas/dialog-event-schema.json\", 'r') as f:\n",
    "    schema = json.load(f)\n",
    "\n",
    "stems=['figure2','figure3','figure4','utterance0','utterance4a','utterance5']\n",
    "for s in stems:\n",
    "    print(f'Validating YAML: {s}.yml')\n",
    "    with open(f'../sample-yaml/{s}.yml', 'r') as f:     \n",
    "        instance = yaml.safe_load(f)\n",
    "        validate(instance=instance, schema=schema)     "
   ]
  }
 ],
 "metadata": {
  "kernelspec": {
   "display_name": "Python 3",
   "language": "python",
   "name": "python3"
  },
  "language_info": {
   "codemirror_mode": {
    "name": "ipython",
    "version": 3
   },
   "file_extension": ".py",
   "mimetype": "text/x-python",
   "name": "python",
   "nbconvert_exporter": "python",
   "pygments_lexer": "ipython3",
   "version": "3.8.10"
  },
  "orig_nbformat": 4,
  "vscode": {
   "interpreter": {
    "hash": "31f2aee4e71d21fbe5cf8b01ff0e069b9275f58929596ceb00d14d90e3e16cd6"
   }
  }
 },
 "nbformat": 4,
 "nbformat_minor": 2
}
